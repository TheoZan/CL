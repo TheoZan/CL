{
 "cells": [
  {
   "cell_type": "code",
   "execution_count": 86,
   "metadata": {},
   "outputs": [],
   "source": [
    "import numpy as np\n",
    "import torch.nn\n",
    "import math\n",
    "import os\n",
    "import pandas as pd\n",
    "\n",
    "from citylearn.citylearn import CityLearnEnv\n",
    "import citylearn\n",
    "from citylearn.energy_model import HeatPump\n",
    "\n",
    "import gym\n",
    "\n",
    "import gym\n",
    "from gym.spaces import Box\n",
    "from stable_baselines3 import PPO, A2C, DDPG, TD3, SAC\n",
    "\n",
    "from sb3_contrib.common.maskable.policies import MaskableActorCriticPolicy\n",
    "from sb3_contrib.common.wrappers import ActionMasker\n",
    "from sb3_contrib.ppo_mask import MaskablePPO\n",
    "from sb3_contrib.common.maskable.utils import get_action_masks"
   ]
  },
  {
   "cell_type": "code",
   "execution_count": 2,
   "metadata": {},
   "outputs": [],
   "source": [
    "def action_space_to_dict(aspace):\n",
    "    \"\"\" Only for box space \"\"\"\n",
    "    return { \"high\": aspace.high,\n",
    "             \"low\": aspace.low,\n",
    "             \"shape\": aspace.shape,\n",
    "             \"dtype\": str(aspace.dtype)\n",
    "    }\n",
    "\n",
    "def env_reset(env):\n",
    "    observations = env.reset()\n",
    "    action_space = env.action_space\n",
    "    observation_space = env.observation_space\n",
    "    building_info = env.get_building_information()\n",
    "    building_info = list(building_info)\n",
    "    action_space_dicts = [action_space_to_dict(asp) for asp in action_space]\n",
    "    observation_space_dicts = [action_space_to_dict(osp) for osp in observation_space]\n",
    "    obs_dict = {\"action_space\": action_space_dicts,\n",
    "                \"observation_space\": observation_space_dicts,\n",
    "                \"building_info\": building_info,\n",
    "                \"observation\": observations }\n",
    "    return obs_dict"
   ]
  },
  {
   "cell_type": "code",
   "execution_count": 3,
   "metadata": {},
   "outputs": [
    {
     "name": "stdout",
     "output_type": "stream",
     "text": [
      "1\n",
      "[Box([-0.71428573], [0.71428573], (1,), float32)]\n"
     ]
    }
   ],
   "source": [
    "from citylearn.utilities import read_json\n",
    "\n",
    "schema_filepath = 'schema2.json'\n",
    "schema = read_json(schema_filepath)\n",
    "schema['root_directory'] = './'\n",
    "\n",
    "env = CityLearnEnv(schema)\n",
    "print(len(env.buildings))\n",
    "print(env.action_space)"
   ]
  },
  {
   "cell_type": "code",
   "execution_count": 6,
   "metadata": {},
   "outputs": [],
   "source": [
    "schema_filepath = 'schema2.json'\n",
    "schema = read_json(schema_filepath)\n",
    "schema['root_directory'] = './'\n",
    "env = CityLearnEnv(schema)\n",
    "# env = EnvCityGym(env, devices=[['battery']], discrete=False, custom_reward=False,\n",
    "#                 sum_cost=True, cost_ESU=True, zeta=0.1, stop=8760)\n",
    "_ = env.reset()"
   ]
  },
  {
   "cell_type": "code",
   "execution_count": 20,
   "metadata": {},
   "outputs": [],
   "source": [
    "class BuildingDevices:\n",
    "  \"\"\"\n",
    "    Keeps track of all storage devices of a building.\n",
    "  \"\"\"\n",
    "  def __init__(self, building, num_building):\n",
    "    self.num_building = num_building\n",
    "    self.building = building\n",
    "    self.devices = {'battery' : Device_(building.electrical_storage, 'battery'),\n",
    "                    'cooling' : None,\n",
    "                    'dhw' : None}\n",
    "    \n",
    "  def compute_bounds(self):\n",
    "    bounds = [self.bounds_action(i) for i,j in self.devices.items() if j is not None]\n",
    "    return gym.spaces.Box(low=np.array([i[0] for i in bounds]), high=np.array([i[1] for i in bounds]), dtype=np.float64)\n",
    "  \n",
    "# ACTION 0 :  cooling\n",
    "# ACTION 1 : dhw\n",
    "# ACTION 2 : battery\n",
    "  \n",
    "  def bounds_action(self, type_action):\n",
    "    device = self.devices[type_action].device\n",
    "    if device is None:\n",
    "        return None # if return none building doest have battery\n",
    "    if type_action == 'battery':\n",
    "        capacity = device.capacity_history[-2] if len(device.capacity_history) > 1 else device.capacity\n",
    "        #HIGH\n",
    "        #get max energy that the storage unit can use to charge [kW]\n",
    "        #if trying to put more than the battery can accept reject action\n",
    "        high1 = device.get_max_input_power()/capacity\n",
    "        high2 = (device.capacity - device.soc_init)/(0.95*device.capacity) #approxim (efficiency = 0.95)\n",
    "        high = min(high1, high2, 1)\n",
    "\n",
    "        #LOW\n",
    "        low1 = -device.get_max_input_power()/capacity\n",
    "        low2 = (-device.soc_init*0.95)/device.capacity #approxim (efficiency = 0.95)\n",
    "        low = max(low1, low2, -1)\n",
    "\n",
    "    else:\n",
    "        bool_h2, bool_l2 = False, False\n",
    "        if type_action == 'cooling':\n",
    "            # print('\\ncooling')\n",
    "            space_demand = self.building.cooling_demand[self.building.time_step]\n",
    "            max_output = self.building.cooling_device.get_max_output_power(self.building.weather.outdoor_dry_bulb_temperature[self.building.time_step], False)\n",
    "            # print('space_demand',space_demand)\n",
    "            # print('max_output', max_output)\n",
    "            # print('capacity:', device.capacity)\n",
    "        else: #dhw\n",
    "            # print('\\ndhw')\n",
    "            space_demand = self.building.dhw_demand[self.building.time_step]\n",
    "            max_output = self.building.dhw_device.get_max_output_power(self.building.weather.outdoor_dry_bulb_temperature[self.building.time_step], False)\\\n",
    "            if isinstance(self.building.dhw_device, HeatPump) else self.building.dhw_device.get_max_output_power()\n",
    "            # print('space_demand',space_demand)\n",
    "            # print('max_output', max_output)\n",
    "        space_demand = 0 if space_demand is None or math.isnan(space_demand) else space_demand # case where space demand is unknown\n",
    "\n",
    "        #HIGH\n",
    "        high1 = (max_output-space_demand) / device.capacity\n",
    "        # print('high1', high1)\n",
    "        if device.max_input_power is not None:\n",
    "            bool_h2 = True\n",
    "            high2 = device.max_input_power / device.capacity\n",
    "            # print('high2', high2)\n",
    "        high3 = (device.capacity - device.soc_init) / (device.capacity*device.efficiency)\n",
    "        # print(device.capacity, device.soc_init)\n",
    "        # print('high3', high3)\n",
    "        \n",
    "        if bool_h2:\n",
    "            high = min(high1, high2, high3, 0.5)\n",
    "        else:\n",
    "            high = min(high1, high3, 0.5)\n",
    "\n",
    "\n",
    "        #LOW\n",
    "        low1 = -space_demand / device.capacity\n",
    "        # print('low1', low1)\n",
    "        if device.max_output_power is not None:\n",
    "            bool_l2 = True\n",
    "            low2 = -device.max_output_power / device.capacity\n",
    "            # print('low2',low2)\n",
    "        low3 = (-device.soc_init*device.efficiency) / device.capacity\n",
    "        # print('low3',low3)\n",
    "\n",
    "        if bool_l2:\n",
    "            low = max(low1, low2, low3, -0.5)\n",
    "        else:\n",
    "            low = max(low1, low3, -0.5)\n",
    "\n",
    "    return (low, high)"
   ]
  },
  {
   "cell_type": "code",
   "execution_count": 21,
   "metadata": {},
   "outputs": [],
   "source": [
    "class Device_:\n",
    "  def __init__(self, device, storage_type):\n",
    "    self.device = device\n",
    "    # self.price_cost = 0\n",
    "    # self.emission_cost = 0\n",
    "    self.cost = 0\n",
    "    self.storage_type = storage_type\n",
    "\n",
    "  def loss(self, cost_t, pv_offset, battery_offset):\n",
    "    \"\"\"\n",
    "    get avg price between (battery release, grid release and PV- direct consumption)\n",
    "    add relative incertainty, but true in pratice as the energy is added up in a global consumption pool \n",
    "\n",
    "    battery: if battery releases, price = avg((total released by battery - remaining conso), grid) in the case of thermal\n",
    "    in the case of battery, avg price with PV\n",
    "    \"\"\"\n",
    "    if not self.device:\n",
    "      print('not device')\n",
    "      raise ValueError\n",
    "\n",
    "    energy_used = self.device.energy_balance[-1]\n",
    "    if isinstance(energy_used, np.ndarray):\n",
    "      print('probleme energy used array instead of float')\n",
    "      energy_used = energy_used[0]\n",
    "\n",
    "    #charge\n",
    "    if energy_used > 0:\n",
    "      #if pv production, part of the energy is free\n",
    "      if pv_offset > 0:\n",
    "        energy_used = max(0, energy_used-pv_offset)\n",
    "      #if usage of battery, part of energy has been already taken into account so free\n",
    "      if battery_offset > 0:\n",
    "        energy_used = max(0, energy_used-battery_offset)\n",
    "      # self.price_cost = ((self.price_cost*self.device.soc[-2])+(energy_used*price))/self.device.soc[-1]\n",
    "      # self.emission_cost = ((self.emission_cost*self.device.soc[-2])+(energy_used*emission))/self.device.soc[-1]\n",
    "      \n",
    "      total = self.device.soc[-1]\n",
    "      if isinstance(total, np.ndarray):\n",
    "        print('probleme soc-1 array instead of float')\n",
    "        total = total[0]\n",
    "\n",
    "      prev = self.device.soc[-2]\n",
    "      if isinstance(prev, np.ndarray):\n",
    "        print('probleme soc-2 array instead of float')\n",
    "        prev = prev[0]\n",
    "\n",
    "      self.cost = ((self.cost*prev) + (energy_used*cost_t)) / total\n",
    "      return energy_used, None, None #energy_used > 0\n",
    "\n",
    "    #discharge\n",
    "    else:\n",
    "      #energy_processed is total energy used during charge/discharge process including losses\n",
    "      #energy_used is the energy_processed minus the losses (used by building)\n",
    "      energy_processed = self.device.soc[-2]-self.device.soc[-1]\n",
    "      return -energy_used, energy_processed, self.cost # -energy_used > 0, energy_processed > 0 "
   ]
  },
  {
   "cell_type": "code",
   "execution_count": 22,
   "metadata": {},
   "outputs": [],
   "source": [
    "def get_offset(building, mode):\n",
    "  \"\"\"\n",
    "  building is env.buildings[i]:\n",
    "  mode = 'pv' or 'battery'\n",
    "\n",
    "  each conso gets an equally distributed offset based on solar generation or battery\n",
    "  discharge\n",
    "  \"\"\"\n",
    "  if mode == 'pv':\n",
    "    if not building.solar_generation is None:\n",
    "      return 0\n",
    "    demands = [building.non_shiftable_load_demand[-2], building.electrical_storage.energy_balance[-1],\n",
    "             building.dhw_demand[-2], building.dhw_storage.energy_balance[-1],\n",
    "             building.cooling_demand[-2], building.cooling_storage.energy_balance[-1]]\n",
    "    count = len([i for i in demands if i > 0])\n",
    "    return -building.solar_generation[-2]/count\n",
    "  else:\n",
    "    if not building.solar_generation is None:\n",
    "      return 0\n",
    "    if building.electrical_storage.energy_balance[-1] >=0:\n",
    "      return 0\n",
    "    demands = [building.non_shiftable_load_demand[-2], building.dhw_demand[-2],\n",
    "            building.dhw_storage.energy_balance[-1], building.cooling_demand[-2],\n",
    "             building.cooling_storage.energy_balance[-1]]\n",
    "    count = len([i for i in demands if i > 0])\n",
    "    return -building.electrical_storage.energy_balance[-1]/count\n",
    "\n",
    "def compute_loss(building, building_devices, price, emission, outdoor_dry_bulb_temperature, zeta):\n",
    "  loss = 0\n",
    "  pv_offset = get_offset(building, 'pv') \n",
    "  battery_offset = get_offset(building, 'battery')\n",
    "  # print('pv offset',pv_offset)\n",
    "  # print('battery_offset', battery_offset)\n",
    "\n",
    "  #1) compute loss for storage devices use or update cost in storage\n",
    "  for name,device in building_devices.devices.items():\n",
    "    #if the device exists in building\n",
    "    if device:\n",
    "      energy_used, energy_processed, cost = device.loss(price*emission, pv_offset, battery_offset)\n",
    "    #else consider it exists and set energy used = 0\n",
    "    #so we can compute the remaining demand associated with the device\n",
    "    else:\n",
    "      energy_used = 0\n",
    "\n",
    "    if not energy_processed: #charge\n",
    "      #account for a part of the cost at charging time\n",
    "      loss += (price * emission) * (energy_used * zeta)\n",
    "    else: #discharge\n",
    "      loss += cost * (energy_processed * (1 - zeta))\n",
    "\n",
    "    #2) compute remaining thermal demand and add cost of remaining direct demand to answer\n",
    "    if name == 'cooling':\n",
    "      #cooling and dhw stored energy is thermal not electrical\n",
    "      remaining = building.cooling_demand[-2] - energy_used\n",
    "      # print('remaining', remaining)\n",
    "      if remaining > 0:\n",
    "        energy = max(0, building.cooling_device.get_input_power(remaining, outdoor_dry_bulb_temperature, False) - pv_offset - battery_offset)\n",
    "        # print('energy', energy)\n",
    "        loss += (price + emission) * energy\n",
    "\n",
    "    elif name == 'dhw':\n",
    "      remaining = building.dhw_demand[-2]\n",
    "      # print('remaining', remaining)\n",
    "      if remaining > 0:\n",
    "        energy = max(0, building.dhw_device.get_input_power(remaining) - pv_offset - battery_offset)\n",
    "        # print('energy', energy)\n",
    "        loss += (price + emission) * energy\n",
    "\n",
    "  #3) compute additionnal loss coming from nsl\n",
    "  nsl = max(0, building.non_shiftable_load_demand[-2] - pv_offset - battery_offset)\n",
    "  loss += (price + emission) * nsl\n",
    "  # print(loss)\n",
    "\n",
    "  return loss"
   ]
  },
  {
   "cell_type": "code",
   "execution_count": 23,
   "metadata": {},
   "outputs": [],
   "source": [
    "class EnvCityGym(gym.Env):\n",
    "    \"\"\"\n",
    "    Env wrapper coming from the gym library.\n",
    "    \"\"\"\n",
    "    def __init__(self, env, devices, discrete, custom_reward, sum_cost, cost_ESU, zeta, stop=None):\n",
    "        # print(schema_filepath)\n",
    "\n",
    "        # new obs\n",
    "        self.index_keep = [0,1,2,3,22,23,27]\n",
    "        self.index_norm = [12,7,24,1,1,1,1,1]\n",
    "\n",
    "        self.custom_reward = custom_reward\n",
    "        self.sum_cost = sum_cost\n",
    "        self.cost_ESU = cost_ESU\n",
    "        self.zeta = zeta\n",
    "        self.discrete = discrete\n",
    "\n",
    "        self.env = env\n",
    "        #list of names of devices [[]]\n",
    "        self.devices = devices\n",
    "        self.building_devices = []\n",
    "        # get the number of buildings\n",
    "        self.num_buildings = len(self.env.action_space)\n",
    "\n",
    "        low = self.env.observation_space[0].low\n",
    "        high = self.env.observation_space[0].high\n",
    "\n",
    "        #if sum cost\n",
    "        if self.sum_cost:\n",
    "            cost_l = low[19]+low[28]\n",
    "            cost_h = high[19]+high[28]\n",
    "\n",
    "        d_low, d_high = [], []\n",
    "        for i in devices[0]:\n",
    "            if i == 'battery':\n",
    "                d_low.append(low[26])\n",
    "                d_high.append(high[26])\n",
    "            elif i == 'cooling':\n",
    "                d_low.append(low[24])\n",
    "                d_high.append(high[24])\n",
    "            elif i == 'dhw':\n",
    "                d_low.append(low[25])\n",
    "                d_high.append(high[25])\n",
    "\n",
    "        low = [low[i] for i in self.index_keep]\n",
    "        high = [high[i] for i in self.index_keep]\n",
    "\n",
    "        low = low + d_low\n",
    "        high = high + d_high\n",
    "\n",
    "        #if sum cost\n",
    "        if self.sum_cost:\n",
    "            low.append(cost_l)\n",
    "            high.append(cost_h)\n",
    "\n",
    "        #if cost ESU, chage if multiple buildings\n",
    "        if self.cost_ESU:\n",
    "            for i in range(len(devices[0])):\n",
    "                low.append(0)\n",
    "                high.append(cost_h)\n",
    "\n",
    "        if self.discrete:\n",
    "            self.action_space = gym.spaces.Discrete(21)\n",
    "            self.action_map = [-1,-0.9,-0.8,-0.7,-0.6,-0.5,-0.4,-0.3,-0.2,-0.1,0,\n",
    "                                0.1,0.2,0.3,0.4,0.5,0.6,0.7,0.8,0.9,1]\n",
    "        else:\n",
    "            self.action_space = env.action_space[0]\n",
    "        self.observation_space = gym.spaces.Box(low=np.array(low), high=np.array(high), dtype=np.float32)\n",
    "\n",
    "        #keep last outdoor temp for each building\n",
    "        self.temp = []\n",
    "        self.stop = stop\n",
    "\n",
    "        self.print_config()\n",
    "\n",
    "        # TO THINK : normalize the observation space\n",
    "\n",
    "    def reset(self):\n",
    "        obs_dict = env_reset(self.env)\n",
    "        obs = self.env.reset()\n",
    "\n",
    "        for i,e in enumerate(self.env.buildings):\n",
    "          self.building_devices.append(BuildingDevices(e,i))\n",
    "          self.temp.append(obs[i][3])\n",
    "\n",
    "        return self.get_obs(obs)\n",
    "\n",
    "    def step(self, action):\n",
    "        \"\"\"\n",
    "        we apply the same action for all the buildings\n",
    "        \"\"\"\n",
    "        t = self.env.time_step\n",
    "        # print('action', action,'\\n')\n",
    "        \n",
    "        if self.discrete:\n",
    "            action = [[self.action_conversion(action)]]\n",
    "            action = action[0]\n",
    "        # print(action)\n",
    "        action = [action]\n",
    "\n",
    "        # we do a step in the environment\n",
    "        obs, reward, done, info = self.env.step(action)\n",
    "        if t == self.stop:\n",
    "            done = True\n",
    "        # print(obs[0][3])\n",
    "        \n",
    "        if self.custom_reward:\n",
    "            rewards = []\n",
    "            for i,e in enumerate(self.env.buildings):\n",
    "                # print(env.temp)\n",
    "                rewards.append(compute_loss(e, self.building_devices[i], self.env.buildings[i].pricing.electricity_pricing[t-1],\n",
    "                self.env.buildings[i].carbon_intensity.carbon_intensity[t-1], self.temp[i], self.zeta))\n",
    "                self.temp[i] = obs[i][3]\n",
    "            # print(obs)\n",
    "            #compute reward\n",
    "            # print('reward', -reward[0])\n",
    "            \n",
    "            return np.array(self.get_obs(obs)), -rewards[0], done, info\n",
    "\n",
    "        else:\n",
    "            return np.array(self.get_obs(obs)), reward[0], done, info\n",
    "\n",
    "    def get_obs(self, obs):\n",
    "        obs_ = [[o[i]/n for i,n in zip(self.index_keep, self.index_norm)] for o in obs]\n",
    "        # obs_ = list(itertools.chain(*obs_))\n",
    "\n",
    "        for o in range(len(obs_)):\n",
    "            if 'battery' in self.devices[o]:\n",
    "                i = obs[o][26]\n",
    "                if isinstance(i, np.ndarray):\n",
    "                    print('probleme array instead of float soc battery obs')\n",
    "                    i = i[0]\n",
    "                obs_[o].append(i)\n",
    "            if 'cooling' in self.devices[o]:\n",
    "                obs_[o].append(obs[o][24])\n",
    "            if 'dhw' in self.devices[o]:\n",
    "                obs_[o].append(obs[o][25])\n",
    "\n",
    "        if self.sum_cost is True:\n",
    "            for o in range(len(obs_)):\n",
    "                #modify for buildings that dont have same nb of obs\n",
    "                obs_[o].append(obs[o][19]+obs[o][28])\n",
    "            # print(obs)\n",
    "        if self.cost_ESU is True:\n",
    "            for o in range(len(obs_)):\n",
    "                for name, device in self.building_devices[o].devices.items():\n",
    "                    if device:\n",
    "                        # print(device.cost)\n",
    "                        obs_[o].append(device.cost)\n",
    "        return np.array(obs_)\n",
    "    \n",
    "    def action_conversion(self, action):\n",
    "        return self.action_map[action]\n",
    "    \n",
    "    def valid_action_mask(self):\n",
    "        mod_action_space = self.building_devices[0].compute_bounds()\n",
    "        act = np.array(self.action_map)\n",
    "        index = list(np.where((act>mod_action_space.low[0]) & (act<mod_action_space.high[0]))[0])\n",
    "        act = [True if i in index else False for i in range(21)]\n",
    "        act[10] = True #noop always valid\n",
    "        return act\n",
    "    \n",
    "    def print_config(self):\n",
    "        print('INIT ENV:')\n",
    "        act = 'Discrete' if self.discrete else 'Continuous'\n",
    "        print(f'ACTION SPACE: {act}')\n",
    "        print(f'Use of custom reward: {self.custom_reward}')\n",
    "        if self.custom_reward:\n",
    "            print(f'    zeta: {self.zeta}')\n",
    "        print('Observations kept:')\n",
    "        for i in self.index_keep:\n",
    "            print(f'    {i}: {self.env.observation_names[0][i]}')\n",
    "        for i in self.devices[0]:\n",
    "            if i == 'battery':\n",
    "                print('    26: '+self.env.observation_names[0][26])\n",
    "            elif i == 'cooling':\n",
    "                print('    24: '+self.env.observation_names[0][24])\n",
    "            elif i == 'dhw':\n",
    "                print('    25: '+self.env.observation_names[0][25])\n",
    "        if self.sum_cost or self.cost_ESU:\n",
    "            print(f'Observations ADDED:')\n",
    "            if self.sum_cost:\n",
    "                print(f'    sum_cost: {self.env.observation_names[0][19]} + {self.env.observation_names[0][28]}')\n",
    "            if self.cost_ESU:\n",
    "                print('    cost_ESU: see Device.loss')"
   ]
  },
  {
   "cell_type": "code",
   "execution_count": 126,
   "metadata": {},
   "outputs": [
    {
     "name": "stdout",
     "output_type": "stream",
     "text": [
      "INIT ENV:\n",
      "ACTION SPACE: Continuous\n",
      "Use of custom reward: True\n",
      "    zeta: 0.1\n",
      "Observations kept:\n",
      "    0: month\n",
      "    1: day_type\n",
      "    2: hour\n",
      "    3: outdoor_dry_bulb_temperature\n",
      "    22: non_shiftable_load\n",
      "    23: solar_generation\n",
      "    27: net_electricity_consumption\n",
      "    26: electrical_storage_soc\n",
      "Observations ADDED:\n",
      "    sum_cost: carbon_intensity + electricity_pricing\n",
      "    cost_ESU: see Device.loss\n"
     ]
    }
   ],
   "source": [
    "env = CityLearnEnv(schema)\n",
    "env = EnvCityGym(env, devices=[['battery']], discrete=False, custom_reward=True,\n",
    "                    sum_cost=True, cost_ESU=True, zeta=0.1, stop=24*30*3)\n",
    "_ = env.reset()"
   ]
  },
  {
   "cell_type": "code",
   "execution_count": 120,
   "metadata": {},
   "outputs": [
    {
     "data": {
      "text/plain": [
       "Box([-0.], [0.71428571], (1,), float64)"
      ]
     },
     "execution_count": 120,
     "metadata": {},
     "output_type": "execute_result"
    }
   ],
   "source": [
    "env.building_devices[0].compute_bounds()"
   ]
  },
  {
   "cell_type": "code",
   "execution_count": 131,
   "metadata": {},
   "outputs": [],
   "source": [
    "_ = env.step([-0.5])"
   ]
  },
  {
   "cell_type": "code",
   "execution_count": 38,
   "metadata": {},
   "outputs": [
    {
     "data": {
      "text/plain": [
       "array([9.89, 9.08, 8.22])"
      ]
     },
     "execution_count": 38,
     "metadata": {},
     "output_type": "execute_result"
    }
   ],
   "source": [
    "env.env.buildings[0].net_electricity_consumption_without_storage"
   ]
  },
  {
   "cell_type": "code",
   "execution_count": 39,
   "metadata": {},
   "outputs": [
    {
     "data": {
      "text/plain": [
       "[9.89, 93.08, -61.779790000000006]"
      ]
     },
     "execution_count": 39,
     "metadata": {},
     "output_type": "execute_result"
    }
   ],
   "source": [
    "env.env.buildings[0].net_electricity_consumption"
   ]
  },
  {
   "cell_type": "code",
   "execution_count": 35,
   "metadata": {},
   "outputs": [
    {
     "data": {
      "text/plain": [
       "array([ 0., 84.])"
      ]
     },
     "execution_count": 35,
     "metadata": {},
     "output_type": "execute_result"
    }
   ],
   "source": [
    "(env.env.buildings[0].net_electricity_consumption - env.env.buildings[0].net_electricity_consumption_without_storage)"
   ]
  },
  {
   "cell_type": "code",
   "execution_count": 40,
   "metadata": {},
   "outputs": [
    {
     "data": {
      "text/plain": [
       "[2.1758, 20.4776, -13.591553800000002]"
      ]
     },
     "execution_count": 40,
     "metadata": {},
     "output_type": "execute_result"
    }
   ],
   "source": [
    "env.env.buildings[0].net_electricity_consumption_cost"
   ]
  },
  {
   "cell_type": "code",
   "execution_count": 132,
   "metadata": {},
   "outputs": [
    {
     "data": {
      "text/plain": [
       "array([7.72865702, 7.07962203, 6.36761776])"
      ]
     },
     "execution_count": 132,
     "metadata": {},
     "output_type": "execute_result"
    }
   ],
   "source": [
    "c1 = np.array(env.env.buildings[0].net_electricity_consumption_without_storage_cost) + np.array(env.env.buildings[0].net_electricity_consumption_without_storage_emission)\n",
    "c1"
   ]
  },
  {
   "cell_type": "code",
   "execution_count": 133,
   "metadata": {},
   "outputs": [
    {
     "data": {
      "text/plain": [
       "array([  7.72865702,  61.65820595, -12.05159764])"
      ]
     },
     "execution_count": 133,
     "metadata": {},
     "output_type": "execute_result"
    }
   ],
   "source": [
    "c2 = np.array(env.env.buildings[0].net_electricity_consumption_cost) + np.array(env.env.buildings[0].net_electricity_consumption_emission)\n",
    "c2"
   ]
  },
  {
   "cell_type": "code",
   "execution_count": 134,
   "metadata": {},
   "outputs": [
    {
     "data": {
      "text/plain": [
       "array([  0.        , -54.57858392,  18.4192154 ])"
      ]
     },
     "execution_count": 134,
     "metadata": {},
     "output_type": "execute_result"
    }
   ],
   "source": [
    "c1 - c2"
   ]
  },
  {
   "cell_type": "code",
   "execution_count": 135,
   "metadata": {},
   "outputs": [
    {
     "data": {
      "text/plain": [
       "array([  0.        ,  54.57858392, -18.4192154 ])"
      ]
     },
     "execution_count": 135,
     "metadata": {},
     "output_type": "execute_result"
    }
   ],
   "source": [
    "c2 - c1"
   ]
  },
  {
   "cell_type": "code",
   "execution_count": 68,
   "metadata": {},
   "outputs": [
    {
     "data": {
      "text/plain": [
       "[2.1758]"
      ]
     },
     "execution_count": 68,
     "metadata": {},
     "output_type": "execute_result"
    }
   ],
   "source": [
    "env.env.buildings[0].net_electricity_consumption_cost"
   ]
  },
  {
   "cell_type": "code",
   "execution_count": 69,
   "metadata": {},
   "outputs": [
    {
     "data": {
      "text/plain": [
       "[5.552857019035001]"
      ]
     },
     "execution_count": 69,
     "metadata": {},
     "output_type": "execute_result"
    }
   ],
   "source": [
    "env.env.buildings[0].net_electricity_consumption_emission"
   ]
  },
  {
   "cell_type": "code",
   "execution_count": 122,
   "metadata": {},
   "outputs": [
    {
     "data": {
      "text/plain": [
       "61.65820594848"
      ]
     },
     "execution_count": 122,
     "metadata": {},
     "output_type": "execute_result"
    }
   ],
   "source": [
    "env.env.buildings[0].net_electricity_consumption_cost[-1] + env.env.buildings[0].net_electricity_consumption_emission[-1]"
   ]
  },
  {
   "cell_type": "code",
   "execution_count": 123,
   "metadata": {},
   "outputs": [
    {
     "data": {
      "text/plain": [
       "7.079622028479998"
      ]
     },
     "execution_count": 123,
     "metadata": {},
     "output_type": "execute_result"
    }
   ],
   "source": [
    "env.env.buildings[0].net_electricity_consumption_without_storage_cost[-1] + env.env.buildings[0].net_electricity_consumption_without_storage_emission[-1]"
   ]
  },
  {
   "cell_type": "code",
   "execution_count": null,
   "metadata": {},
   "outputs": [],
   "source": [
    "def reward_diff(self, building_i):\n",
    "    r = []\n",
    "    building = self.env.buildings[building_i]\n",
    "    c1 = building.net_electricity_consumption_cost[-1]\n",
    "    c2 = building.net_electricity_consumption_emission[-1]\n",
    "    c = c1 + c2\n",
    "\n",
    "    c1_ = building.net_electricity_consumption_without_storage_cost[-1]\n",
    "    c2_ = building.net_electricity_consumption_without_storage_emission[-1]\n",
    "    c_ = c1_ + c2_\n",
    "\n",
    "    final_cost = c_ - c\n",
    "    return final_cost"
   ]
  },
  {
   "cell_type": "code",
   "execution_count": 109,
   "metadata": {},
   "outputs": [],
   "source": [
    "pricing = np.array(pd.read_csv('./pricing.csv')['Electricity Pricing [$]'])\n",
    "carbon = np.array(pd.read_csv('./carbon_intensity.csv')['kg_CO2/kWh'])"
   ]
  },
  {
   "cell_type": "code",
   "execution_count": 92,
   "metadata": {},
   "outputs": [
    {
     "name": "stdout",
     "output_type": "stream",
     "text": [
      "max 0.54\n",
      "min 0.21\n"
     ]
    }
   ],
   "source": [
    "print('max', pricing['Electricity Pricing [$]'].max())\n",
    "print('min', pricing['Electricity Pricing [$]'].min())"
   ]
  },
  {
   "cell_type": "code",
   "execution_count": 98,
   "metadata": {},
   "outputs": [
    {
     "name": "stdout",
     "output_type": "stream",
     "text": [
      "max 0.5997323695\n",
      "min 0.32375128525\n"
     ]
    }
   ],
   "source": [
    "print('max', carbon['kg_CO2/kWh'].max())\n",
    "print('min', carbon['kg_CO2/kWh'].min())"
   ]
  },
  {
   "cell_type": "code",
   "execution_count": null,
   "metadata": {},
   "outputs": [],
   "source": [
    "def normalize(self, value, mean, std) -> np.ndarray:\n",
    "        \"\"\"\n",
    "        \"\"\"\n",
    "        \n",
    "        return (value - mean)/std"
   ]
  },
  {
   "cell_type": "code",
   "execution_count": null,
   "metadata": {},
   "outputs": [],
   "source": []
  },
  {
   "cell_type": "code",
   "execution_count": 105,
   "metadata": {},
   "outputs": [
    {
     "name": "stdout",
     "output_type": "stream",
     "text": [
      "0.2731312785388128 0.11779597379258909\n"
     ]
    }
   ],
   "source": [
    "mean_pricing = np.mean(np.array(pricing['Electricity Pricing [$]']))\n",
    "std_pricing = np.std(np.array(pricing['Electricity Pricing [$]']))\n",
    "\n",
    "print(mean_pricing, std_pricing)"
   ]
  },
  {
   "cell_type": "code",
   "execution_count": 104,
   "metadata": {},
   "outputs": [
    {
     "name": "stdout",
     "output_type": "stream",
     "text": [
      "0.5118696191061358 0.044935106606637236\n"
     ]
    }
   ],
   "source": [
    "mean_carbon = np.mean(np.array(carbon['kg_CO2/kWh']))\n",
    "std_pcarbon = np.std(np.array(carbon['kg_CO2/kWh']))\n",
    "\n",
    "print(mean_carbon, std_pcarbon)"
   ]
  },
  {
   "cell_type": "code",
   "execution_count": 113,
   "metadata": {},
   "outputs": [
    {
     "name": "stdout",
     "output_type": "stream",
     "text": [
      "0.7850008976449486 0.1339831060216876\n"
     ]
    }
   ],
   "source": [
    "cost = pricing + carbon\n",
    "mean_cost = np.mean(cost)\n",
    "std_cost = np.std(cost)\n",
    "\n",
    "print(mean_cost, std_cost)"
   ]
  },
  {
   "cell_type": "code",
   "execution_count": 108,
   "metadata": {},
   "outputs": [
    {
     "data": {
      "text/plain": [
       "array([1.])"
      ]
     },
     "execution_count": 108,
     "metadata": {},
     "output_type": "execute_result"
    }
   ],
   "source": [
    "np.ones(1) + np.zeros(1)"
   ]
  },
  {
   "cell_type": "code",
   "execution_count": null,
   "metadata": {},
   "outputs": [],
   "source": []
  }
 ],
 "metadata": {
  "kernelspec": {
   "display_name": "Python 3",
   "language": "python",
   "name": "python3"
  },
  "language_info": {
   "codemirror_mode": {
    "name": "ipython",
    "version": 3
   },
   "file_extension": ".py",
   "mimetype": "text/x-python",
   "name": "python",
   "nbconvert_exporter": "python",
   "pygments_lexer": "ipython3",
   "version": "3.10.6"
  },
  "orig_nbformat": 4
 },
 "nbformat": 4,
 "nbformat_minor": 2
}
